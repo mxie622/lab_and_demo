{
 "cells": [
  {
   "cell_type": "markdown",
   "metadata": {},
   "source": [
    "# Task: NER\n",
    "Write a rule to identify if words contain programming language\n",
    "\n",
    "python version: 3.8+\n",
    "\n",
    "spacy version: 3.0+"
   ]
  },
  {
   "cell_type": "markdown",
   "metadata": {},
   "source": [
    "## Loading data:\n",
    "Title: texts corpus\n",
    "\n",
    "Label:\n",
    "\n",
    "    = 1: means the texts contain Programming Language\n",
    "    \n",
    "    = 0: otherwise"
   ]
  },
  {
   "cell_type": "code",
   "execution_count": 1,
   "metadata": {},
   "outputs": [
    {
     "name": "stdout",
     "output_type": "stream",
     "text": [
      "     Label                                              Title\n",
      "0        0  SQLStatement.execute() - multiple queries in o...\n",
      "1        0  Good branching and merging tutorials for Torto...\n",
      "2        1                                  ASP.NET Site Maps\n",
      "3        0                 Function for creating color wheels\n",
      "4        1  Adding scripting functionality to .NET applica...\n",
      "..     ...                                                ...\n",
      "597      0        Templates of Technical and Functional Specs\n",
      "598      1  How can you determine what version(s) of .NET ...\n",
      "599      0            Patterns for the overlap of two objects\n",
      "600      0  SQL Server best way to calculate datediff betw...\n",
      "601      0  How do I find and decouple entities from a cer...\n",
      "\n",
      "[602 rows x 2 columns]\n"
     ]
    }
   ],
   "source": [
    "# Load packages\n",
    "import pandas as pd\n",
    "import numpy as np\n",
    "from IPython.display import HTML as html_print\n",
    "import spacy\n",
    "from spacy.matcher import Matcher\n",
    "from sklearn.metrics import confusion_matrix, classification_report # confusion matrix\n",
    "# ------------- Manually labelled\n",
    "texts = (pd.read_csv('/Users/mikexie/have_label.txt', delimiter = '\\t')\n",
    "           [['Label', 'Title']]\n",
    "            .loc[:601])\n",
    "\n",
    "print(texts)\n",
    "titles = (_ for _ in texts['Title'])"
   ]
  },
  {
   "cell_type": "markdown",
   "metadata": {},
   "source": [
    "## Rule-base method\n"
   ]
  },
  {
   "cell_type": "code",
   "execution_count": 2,
   "metadata": {},
   "outputs": [],
   "source": [
    "# Load an English and empty model\n",
    "nlp = spacy.blank(\"en\")\n",
    "matcher = Matcher(nlp.vocab)"
   ]
  },
  {
   "cell_type": "markdown",
   "metadata": {},
   "source": [
    "### Writing rules which pattern is identified as programming language"
   ]
  },
  {
   "cell_type": "code",
   "execution_count": 3,
   "metadata": {},
   "outputs": [],
   "source": [
    "\n",
    "obj_c_pattern = [{'LOWER': 'objective'},\n",
    "          {'IS_PUNCT': True, 'OP': '?'},\n",
    "          {'LOWER': 'c'}]\n",
    "obj_c_pattern2 = [{'LOWER': 'objectivec'}]\n",
    "ruby_pattern = [{\"LOWER\": 'ruby'}]\n",
    "js_pattern = [{'LOWER': {'IN': ['java', 'js', 'javascript']}}]\n",
    "golang_pattern = [{'LOWER': {\"IN\": ['go', 'golang']},\n",
    "                  'POS': {'NOT_IN': ['VERB']}}]\n",
    "python_pattern = [{'LOWER': 'python'}]\n",
    "net_pattern = [{'LOWER': {'IN': ['.net', 'net']}}]\n",
    "perl_pattern = [{'LOWER': 'perl'}]\n",
    "php_pattern = [{'LOWER': 'php'}]\n",
    "Csharp_pattern1 = [{'LOWER': 'c'}, {'LOWER': 'sharp'}]\n",
    "Csharp_pattern2 = [{'LOWER': {'IN': ['c#', 'c #', 'C#', 'C #']}}]\n",
    "Csharp_pattern3 = [{'LOWER': 'c'}, {'LOWER': '#'}]\n",
    "Csharp_pattern4 = [{'LOWER': 'c'}, {'LOWER': '-'}, {'LOWER': 'sharp'}]\n",
    "ASP_NET_pattern = [{'LOWER': 'asp.net'}]\n",
    "CPP_pattern = [{'LOWER': {'IN': ['cpp', 'c++']}}]\n",
    "LISP_pattern = [{'LOWER': 'lisp'}]\n",
    "SQL_pattern = [{'LOWER': 'sql'}]\n",
    "from spacy.matcher import Matcher\n",
    "matcher = Matcher(nlp.vocab)\n",
    "\n",
    "matcher.add(\"OBJ_C_LANG\", [obj_c_pattern])\n",
    "matcher.add(\"OBJ_C_LANG\", [obj_c_pattern2])\n",
    "matcher.add(\"RUBY_LANG\", [ruby_pattern])\n",
    "matcher.add(\"PYTHON\", [python_pattern])\n",
    "matcher.add(\"JS_LANG\", [js_pattern])\n",
    "matcher.add(\"GOLANG_LANG\", [golang_pattern])\n",
    "matcher.add(\".NET\", [net_pattern])\n",
    "matcher.add(\"PERL\", [perl_pattern])\n",
    "matcher.add(\"PHP\", [php_pattern])\n",
    "matcher.add(\"CSHARP\", \n",
    "            [Csharp_pattern1, \n",
    "            Csharp_pattern2, \n",
    "            Csharp_pattern3,\n",
    "            Csharp_pattern4])\n",
    "matcher.add(\"CPP\", [CPP_pattern])\n",
    "matcher.add(\"ASP_NET\", [ASP_NET_pattern])\n",
    "matcher.add(\"LISP\", [LISP_pattern])\n",
    "matcher.add(\"SQL\", [SQL_pattern])"
   ]
  },
  {
   "cell_type": "markdown",
   "metadata": {},
   "source": [
    "## Extending Jupyter: Visualise"
   ]
  },
  {
   "cell_type": "code",
   "execution_count": 4,
   "metadata": {},
   "outputs": [],
   "source": [
    "def style(s, bold=False):\n",
    "    blob = f\"<text>{s}</text>\"\n",
    "    if bold:\n",
    "        blob = f\"<b style='background-color: #fff59d'>{blob}</b>\"\n",
    "    return blob\n",
    "\n",
    "def html_generator(g,n = 20):\n",
    "    blob=\"\"\n",
    "    for i in range(n):\n",
    "        doc = next(g)\n",
    "        state = [[t, False] for t in doc]\n",
    "        for idx, start, end in matcher(doc):\n",
    "            for i in range(start, end):\n",
    "                state[i][1] = True\n",
    "        blob += style(' '.join([style(str(t[0]), bold = t[1]) for t in state]) + '<br>')\n",
    "    return blob\n",
    "titles = (_ for _ in texts['Title'])\n",
    "g = (d for d in nlp.pipe(titles) if len(matcher(d)) > 0)\n",
    "\n"
   ]
  },
  {
   "cell_type": "code",
   "execution_count": 5,
   "metadata": {
    "scrolled": false
   },
   "outputs": [
    {
     "data": {
      "text/html": [
       "<text><b style='background-color: #fff59d'><text>ASP.NET</text></b> <text>Site</text> <text>Maps</text><br></text><text><text>Adding</text> <text>scripting</text> <text>functionality</text> <text>to</text> <b style='background-color: #fff59d'><text>.NET</text></b> <text>applications</text><br></text><text><text>Deploying</text> <b style='background-color: #fff59d'><text>SQL</text></b> <text>Server</text> <text>Databases</text> <text>from</text> <text>Test</text> <text>to</text> <text>Live</text><br></text><text><text>How</text> <text>do</text> <text>I</text> <text>connect</text> <text>to</text> <text>a</text> <text>database</text> <text>and</text> <text>loop</text> <text>over</text> <text>a</text> <text>recordset</text> <text>in</text> <b style='background-color: #fff59d'><text>C</text></b> <b style='background-color: #fff59d'><text>#</text></b> <text>?</text><br></text><text><text>How</text> <text>do</text> <text>I</text> <text>delete</text> <text>a</text> <text>file</text> <text>which</text> <text>is</text> <text>locked</text> <text>by</text> <text>another</text> <text>process</text> <text>in</text> <b style='background-color: #fff59d'><text>C</text></b> <b style='background-color: #fff59d'><text>#</text></b> <text>?</text><br></text><text><text>Is</text> <text>nAnt</text> <text>still</text> <text>supported</text> <text>and</text> <text>suitable</text> <text>for</text> <b style='background-color: #fff59d'><text>.net</text></b> <text>3.5</text> <text>/</text> <text>VS2008</text> <text>?</text><br></text><text><text>Is</text> <text>Windows</text> <text>Server</text> <text>2008</text> <text>\"</text> <text>Server</text> <text>Core</text> <text>\"</text> <text>appropriate</text> <text>for</text> <text>a</text> <b style='background-color: #fff59d'><text>SQL</text></b> <text>Server</text> <text>instance</text> <text>?</text><br></text><text><b style='background-color: #fff59d'><text>.NET</text></b> <text>Unit</text> <text>Testing</text> <text>packages</text> <text>?</text><br></text><text><text>What</text> <text>are</text> <text>effective</text> <text>options</text> <text>for</text> <text>embedding</text> <text>video</text> <text>in</text> <text>an</text> <b style='background-color: #fff59d'><text>ASP.NET</text></b> <text>web</text> <text>site</text> <text>?</text><br></text><text><text>Paging</text> <b style='background-color: #fff59d'><text>SQL</text></b> <text>Server</text> <text>2005</text> <text>Results</text><br></text>"
      ],
      "text/plain": [
       "<IPython.core.display.HTML object>"
      ]
     },
     "execution_count": 5,
     "metadata": {},
     "output_type": "execute_result"
    }
   ],
   "source": [
    "html_print(html_generator(g, n = 10))"
   ]
  },
  {
   "cell_type": "markdown",
   "metadata": {},
   "source": [
    "## Labelling\n",
    "If you haven't labelled yet, manually label some. "
   ]
  },
  {
   "cell_type": "code",
   "execution_count": 6,
   "metadata": {},
   "outputs": [
    {
     "data": {
      "text/html": [
       "<div>\n",
       "<style scoped>\n",
       "    .dataframe tbody tr th:only-of-type {\n",
       "        vertical-align: middle;\n",
       "    }\n",
       "\n",
       "    .dataframe tbody tr th {\n",
       "        vertical-align: top;\n",
       "    }\n",
       "\n",
       "    .dataframe thead th {\n",
       "        text-align: right;\n",
       "    }\n",
       "</style>\n",
       "<table border=\"1\" class=\"dataframe\">\n",
       "  <thead>\n",
       "    <tr style=\"text-align: right;\">\n",
       "      <th></th>\n",
       "      <th>Label</th>\n",
       "      <th>Title</th>\n",
       "      <th>Pred</th>\n",
       "    </tr>\n",
       "  </thead>\n",
       "  <tbody>\n",
       "    <tr>\n",
       "      <th>0</th>\n",
       "      <td>0</td>\n",
       "      <td>SQLStatement.execute() - multiple queries in o...</td>\n",
       "      <td>0</td>\n",
       "    </tr>\n",
       "    <tr>\n",
       "      <th>1</th>\n",
       "      <td>0</td>\n",
       "      <td>Good branching and merging tutorials for Torto...</td>\n",
       "      <td>0</td>\n",
       "    </tr>\n",
       "    <tr>\n",
       "      <th>2</th>\n",
       "      <td>1</td>\n",
       "      <td>ASP.NET Site Maps</td>\n",
       "      <td>1</td>\n",
       "    </tr>\n",
       "    <tr>\n",
       "      <th>3</th>\n",
       "      <td>0</td>\n",
       "      <td>Function for creating color wheels</td>\n",
       "      <td>0</td>\n",
       "    </tr>\n",
       "    <tr>\n",
       "      <th>4</th>\n",
       "      <td>1</td>\n",
       "      <td>Adding scripting functionality to .NET applica...</td>\n",
       "      <td>1</td>\n",
       "    </tr>\n",
       "    <tr>\n",
       "      <th>...</th>\n",
       "      <td>...</td>\n",
       "      <td>...</td>\n",
       "      <td>...</td>\n",
       "    </tr>\n",
       "    <tr>\n",
       "      <th>96</th>\n",
       "      <td>0</td>\n",
       "      <td>Lisp/Scheme interpreter without Emacs?</td>\n",
       "      <td>1</td>\n",
       "    </tr>\n",
       "    <tr>\n",
       "      <th>97</th>\n",
       "      <td>0</td>\n",
       "      <td>How can I reverse the ON bits in a byte?</td>\n",
       "      <td>0</td>\n",
       "    </tr>\n",
       "    <tr>\n",
       "      <th>98</th>\n",
       "      <td>0</td>\n",
       "      <td>How to return a page of results from SQL?</td>\n",
       "      <td>1</td>\n",
       "    </tr>\n",
       "    <tr>\n",
       "      <th>99</th>\n",
       "      <td>0</td>\n",
       "      <td>Checking for string contents? string Length Vs...</td>\n",
       "      <td>0</td>\n",
       "    </tr>\n",
       "    <tr>\n",
       "      <th>100</th>\n",
       "      <td>1</td>\n",
       "      <td>What are the useful new ASP.NET features in th...</td>\n",
       "      <td>1</td>\n",
       "    </tr>\n",
       "  </tbody>\n",
       "</table>\n",
       "<p>101 rows × 3 columns</p>\n",
       "</div>"
      ],
      "text/plain": [
       "     Label                                              Title  Pred\n",
       "0        0  SQLStatement.execute() - multiple queries in o...     0\n",
       "1        0  Good branching and merging tutorials for Torto...     0\n",
       "2        1                                  ASP.NET Site Maps     1\n",
       "3        0                 Function for creating color wheels     0\n",
       "4        1  Adding scripting functionality to .NET applica...     1\n",
       "..     ...                                                ...   ...\n",
       "96       0             Lisp/Scheme interpreter without Emacs?     1\n",
       "97       0           How can I reverse the ON bits in a byte?     0\n",
       "98       0          How to return a page of results from SQL?     1\n",
       "99       0  Checking for string contents? string Length Vs...     0\n",
       "100      1  What are the useful new ASP.NET features in th...     1\n",
       "\n",
       "[101 rows x 3 columns]"
      ]
     },
     "execution_count": 6,
     "metadata": {},
     "output_type": "execute_result"
    }
   ],
   "source": [
    "\n",
    "label_df = (pd.read_csv('have_label.txt', delimiter = '\\t')\n",
    "           [['Label', 'Title']]\n",
    "            .loc[:100]\n",
    "           .assign(Pred=lambda d: [len(matcher(d)) > 0 for d in nlp.pipe(d['Title'])])\n",
    "           .assign(Pred=lambda d: d['Pred'].astype(np.int8)))\n",
    "label_df"
   ]
  },
  {
   "cell_type": "markdown",
   "metadata": {},
   "source": [
    "## Check incorrect predictions"
   ]
  },
  {
   "cell_type": "code",
   "execution_count": 7,
   "metadata": {},
   "outputs": [
    {
     "name": "stdout",
     "output_type": "stream",
     "text": [
      "How to learn ADO.NET\n",
      "-------------------\n",
      "Deploying SQL Server Databases from Test to Live\n",
      "Is Windows Server 2008 \"Server Core\" appropriate for a SQL Server instance?\n",
      "Paging SQL Server 2005 Results\n",
      "MySQL/Apache Error in PHP MySQL query\n",
      "How do you get leading wildcard full-text searches to work in SQL Server?\n",
      "How do I Transform Sql Columns into Rows?\n",
      "What program can I use to generate diagrams of SQL view/table structure?\n",
      "SQL Server Management Studio alternatives to browse/edit tables and run queries\n",
      "Lisp/Scheme interpreter without Emacs?\n",
      "How to return a page of results from SQL?\n"
     ]
    }
   ],
   "source": [
    "# pred = 0 ---- label = 1\n",
    "mistakes1 = (label_df\n",
    "            .loc[lambda d: d['Pred'] == 0]\n",
    "            .loc[lambda d: d['Label'] == 1]['Title'])\n",
    "for i in range(mistakes1.shape[0]):\n",
    "    print(mistakes1.iloc[i])\n",
    "print('-------------------')\n",
    "# pred = 1 ---- label = 0\n",
    "mistakes2 = (label_df\n",
    "            .loc[lambda d: d['Pred'] == 1]\n",
    "            .loc[lambda d: d['Label'] == 0]['Title'])\n",
    "for i in range(mistakes2.shape[0]):\n",
    "    print(mistakes2.iloc[i])"
   ]
  },
  {
   "cell_type": "code",
   "execution_count": 8,
   "metadata": {},
   "outputs": [
    {
     "data": {
      "text/plain": [
       "array([[65, 10],\n",
       "       [ 1, 25]])"
      ]
     },
     "execution_count": 8,
     "metadata": {},
     "output_type": "execute_result"
    }
   ],
   "source": [
    "# confusion matrix\n",
    "confusion_matrix(label_df['Label'], label_df['Pred'])"
   ]
  },
  {
   "cell_type": "code",
   "execution_count": 9,
   "metadata": {},
   "outputs": [
    {
     "name": "stdout",
     "output_type": "stream",
     "text": [
      "              precision    recall  f1-score   support\n",
      "\n",
      "           0       0.98      0.87      0.92        75\n",
      "           1       0.71      0.96      0.82        26\n",
      "\n",
      "    accuracy                           0.89       101\n",
      "   macro avg       0.85      0.91      0.87       101\n",
      "weighted avg       0.92      0.89      0.90       101\n",
      "\n"
     ]
    }
   ],
   "source": [
    "# Recall, Precision, F1\n",
    "print(classification_report(label_df['Label'], label_df['Pred']))"
   ]
  },
  {
   "cell_type": "markdown",
   "metadata": {},
   "source": [
    "# NER Task for the whole "
   ]
  },
  {
   "cell_type": "code",
   "execution_count": 10,
   "metadata": {},
   "outputs": [],
   "source": [
    "from spacy.lang.en import English\n",
    "from spacy.matcher import Matcher\n",
    "from spacy.pipeline import EntityRuler, EntityRecognizer\n",
    "from spacy.training import docs_to_json"
   ]
  },
  {
   "cell_type": "code",
   "execution_count": 11,
   "metadata": {},
   "outputs": [],
   "source": [
    "\n",
    "def create_versioned(name):\n",
    "    return [\n",
    "        [{'LOWER': name}],\n",
    "        [{'LOWER': {'REGEX': f'({name}\\d+\\.?\\d*.?\\d*)'}}],\n",
    "        [{'LOWER': name}, {'TEXT': {'REGEX': '(\\d+\\.?\\d*.?\\d*)'}}],\n",
    "    ]\n",
    "\n",
    "def create_patterns():\n",
    "    versioned_languages = ['ruby', 'php', 'python', 'lisp',\n",
    "                          'golang', \n",
    "                           'asp.net', \n",
    "                           'objectivec',\n",
    "                           'C + +',\n",
    "                           'C#',\n",
    "                           'sql', 'cpp', 'perl', 'java']\n",
    "    versioned_languages = ['ruby', 'php']\n",
    "    flatten = lambda l: [item for sublist in l for item in sublist]\n",
    "    versioned_patterns = flatten([create_versioned(lang) for lang in versioned_languages])\n",
    "    lang_patterns = [\n",
    "         [{'LOWER': 'objective'}, {'IS_PUNCT': True, 'OP': '?'}, {'LOWER': 'c'}],\n",
    "         [{'LOWER': 'objectivec'}],\n",
    "        [{\"LOWER\": 'ruby'}],\n",
    "         [{'LOWER': {'IN': ['java', 'js', 'javascript']}}],\n",
    "         [{'LOWER': {\"IN\": ['go', 'golang']},'POS': {'NOT_IN': ['VERB']}}],\n",
    "        [{'LOWER': 'python'}],\n",
    "        [{'LOWER': {'IN': ['.net', 'net']}}],\n",
    "        [{'LOWER': 'perl'}],\n",
    "        [{'LOWER': 'php'}],\n",
    "         [{'LOWER': 'c'}, {'LOWER': 'sharp'}],\n",
    "         [{'LOWER': {'IN': ['c#', 'c #', 'C#', 'C #']}}],\n",
    "        [{'LOWER': 'c'}, {'LOWER': '#'}],\n",
    "        [{'LOWER': 'c'}, {'LOWER': '-'}, {'LOWER': 'sharp'}],\n",
    "         [{'LOWER': 'asp.net'}],\n",
    "         [{'LOWER': {'IN': ['cpp', 'c++']}}],\n",
    "         [{'LOWER': 'lisp'}],\n",
    "         [{'LOWER': 'sql'}],\n",
    "    ]\n",
    "    return versioned_patterns + lang_patterns\n",
    "    \n",
    "    "
   ]
  },
  {
   "cell_type": "markdown",
   "metadata": {},
   "source": [
    "# Full training set\n",
    "Training with labelled data"
   ]
  },
  {
   "cell_type": "code",
   "execution_count": 12,
   "metadata": {},
   "outputs": [
    {
     "name": "stdout",
     "output_type": "stream",
     "text": [
      "('i use java and sql', {'entities': [(6, 10, 'PROGLANG'), (15, 18, 'PROGLANG')]})\n"
     ]
    }
   ],
   "source": [
    "def parse_train_data(doc):\n",
    "    detections = [(doc[start:end].start_char, \n",
    "                   doc[start:end].end_char, \n",
    "                   \"PROGLANG\") for idx, start, end in matcher(doc)]\n",
    "    return (doc.text, {'entities': detections})\n",
    "\n",
    "print(parse_train_data(nlp('i use java and sql'))) # simple test for the function\n",
    "\n",
    "# training set size = 500\n",
    "train_df = (pd.read_csv(\"have_label.txt\", \n",
    "                  nrows=500, \n",
    "                  sep='\\t', \n",
    "                  usecols=['Label', 'Title']))\n",
    "\n",
    "titles = train_df.loc[lambda d: d['Label'] == 1]['Title']\n",
    "TRAIN_DATA = [parse_train_data(d) for d in nlp.pipe(titles) if len(matcher(d)) == 1]"
   ]
  },
  {
   "cell_type": "markdown",
   "metadata": {},
   "source": [
    "# Training loop"
   ]
  },
  {
   "cell_type": "code",
   "execution_count": 13,
   "metadata": {},
   "outputs": [
    {
     "name": "stdout",
     "output_type": "stream",
     "text": [
      "[('.NET Unit Testing packages?', {'entities': [(0, 4, 'PROGLANG')]}), ('What are effective options for embedding video in an ASP.NET web site?', {'entities': [(53, 60, 'PROGLANG')]}), ('How to set up unit testing for Visual Studio C++', {'entities': [(45, 48, 'PROGLANG')]})]\n"
     ]
    }
   ],
   "source": [
    "\n",
    "print(TRAIN_DATA[5:8])\n",
    "def create_blank_nlp(train_data):\n",
    "    nlp = spacy.blank(\"en\")\n",
    "    ner = nlp.add_pipe(\"ner\")\n",
    "    for _, annotations in train_data:\n",
    "        for ent in annotations.get(\"entities\"):\n",
    "            ner.add_label(ent[2])\n",
    "    return nlp"
   ]
  },
  {
   "cell_type": "code",
   "execution_count": 14,
   "metadata": {},
   "outputs": [
    {
     "name": "stdout",
     "output_type": "stream",
     "text": [
      "Losses at iteration 0 - 2021-10-15 02:02:07.800442 {'ner': 173.99925856949926}\n",
      "Losses at iteration 1 - 2021-10-15 02:02:09.543693 {'ner': 16.41922613286977}\n",
      "Losses at iteration 2 - 2021-10-15 02:02:11.268491 {'ner': 5.67216943011611}\n",
      "Losses at iteration 3 - 2021-10-15 02:02:12.994988 {'ner': 3.3659192187337075}\n",
      "Losses at iteration 4 - 2021-10-15 02:02:14.702703 {'ner': 3.539841123097918}\n",
      "Losses at iteration 5 - 2021-10-15 02:02:16.446174 {'ner': 1.9739410326166358}\n",
      "Losses at iteration 6 - 2021-10-15 02:02:18.177170 {'ner': 0.12594040888139726}\n",
      "Losses at iteration 7 - 2021-10-15 02:02:19.896304 {'ner': 0.27727586121967474}\n",
      "Losses at iteration 8 - 2021-10-15 02:02:21.624774 {'ner': 0.9413159054850833}\n",
      "Losses at iteration 9 - 2021-10-15 02:02:23.387569 {'ner': 0.06976780081079186}\n",
      "Losses at iteration 10 - 2021-10-15 02:02:25.176645 {'ner': 3.3655249025860043}\n",
      "Losses at iteration 11 - 2021-10-15 02:02:26.915961 {'ner': 1.972134490175858}\n",
      "Losses at iteration 12 - 2021-10-15 02:02:28.683276 {'ner': 2.0643049122468975}\n"
     ]
    }
   ],
   "source": [
    "import random \n",
    "import datetime as dt\n",
    "from spacy.training.example import Example\n",
    "nlp = create_blank_nlp(TRAIN_DATA)\n",
    "optimizer = nlp.begin_training()  \n",
    "for i in range(20):\n",
    "    random.shuffle(TRAIN_DATA)\n",
    "    losses = {}\n",
    "    for text, annotations in TRAIN_DATA:\n",
    "        doc = nlp.make_doc(text)\n",
    "        example = Example.from_dict(doc, annotations)\n",
    "#        nlp.update([text], [annotations], sgd=optimizer, losses=losses)\n",
    "        nlp.update([example], losses=losses, sgd=optimizer, drop=0.3)\n",
    "    if losses.get(\"ner\") < 0.01:\n",
    "        break\n",
    "    print(f\"Losses at iteration {i} - {dt.datetime.now()}\", losses)"
   ]
  },
  {
   "cell_type": "markdown",
   "metadata": {},
   "source": [
    "# Enhance training： dropout + batch"
   ]
  },
  {
   "cell_type": "code",
   "execution_count": 15,
   "metadata": {},
   "outputs": [
    {
     "name": "stdout",
     "output_type": "stream",
     "text": [
      "Losses at iteration 0 - 2021-10-15 02:02:32.450801 {'ner': 156.9159550144574}\n",
      "Losses at iteration 1 - 2021-10-15 02:02:34.166574 {'ner': 3.8402867561575276}\n",
      "Losses at iteration 2 - 2021-10-15 02:02:35.906373 {'ner': 0.0028766789965708637}\n"
     ]
    }
   ],
   "source": [
    "from spacy.util import minibatch, compounding\n",
    "nlp = create_blank_nlp(TRAIN_DATA)\n",
    "ruler = EntityRuler(nlp)\n",
    "ruler.add_patterns([{'label': 'PROGLANG', 'pattern': p} for p in create_patterns()])\n",
    "optimizer = nlp.begin_training()\n",
    "for i in range(20):\n",
    "    losses = {}\n",
    "    batches = minibatch(TRAIN_DATA, size=compounding(4.0, 32.0, 1.001))\n",
    "    for batch in batches:\n",
    "        for text, annotations in batch:\n",
    "            doc = nlp.make_doc(text)\n",
    "            example = Example.from_dict(doc, annotations)\n",
    "            nlp.update(\n",
    "                [example],\n",
    "                drop=0.1,  # dropout - make it harder to memorise data\n",
    "                losses=losses,\n",
    "            )\n",
    "    if losses.get(\"ner\") < 0.001:\n",
    "        break\n",
    "    print(f\"Losses at iteration {i} - {dt.datetime.now()} {losses}\")\n",
    "ruler.to_disk('entity_ruler.jsonl')\n",
    "nlp.to_disk('rule-model') # call it later"
   ]
  },
  {
   "cell_type": "code",
   "execution_count": 16,
   "metadata": {},
   "outputs": [
    {
     "data": {
      "text/html": [
       "<span class=\"tex2jax_ignore\"><div class=\"entities\" style=\"line-height: 2.5; direction: ltr\">i write code in \n",
       "<mark class=\"entity\" style=\"background: #ddd; padding: 0.45em 0.6em; margin: 0 0.25em; line-height: 1; border-radius: 0.35em;\">\n",
       "    python\n",
       "    <span style=\"font-size: 0.8em; font-weight: bold; line-height: 1; border-radius: 0.35em; vertical-align: middle; margin-left: 0.5rem\">PROGLANG</span>\n",
       "</mark>\n",
       "</div></span>"
      ],
      "text/plain": [
       "<IPython.core.display.HTML object>"
      ]
     },
     "metadata": {},
     "output_type": "display_data"
    }
   ],
   "source": [
    "# Simple test for loading rule based model\n",
    "from spacy import displacy\n",
    "doc = nlp(\"i write code in python\")\n",
    "displacy.render(doc, style=\"ent\")\n"
   ]
  },
  {
   "cell_type": "markdown",
   "metadata": {},
   "source": [
    "## Prepare data for scoring"
   ]
  },
  {
   "cell_type": "code",
   "execution_count": null,
   "metadata": {},
   "outputs": [],
   "source": [
    "\n",
    "nlp = spacy.load('rule-model')\n",
    "nlp.add_pipe('sentencizer')\n",
    "\n",
    "valid_df = (pd.read_csv('have_label.txt', delimiter = '\\t')\n",
    "           [['Label', 'Title']]\n",
    "           .assign(Pred=lambda d: [len(matcher(d)) > 0 for d in nlp.pipe(d['Title'])])\n",
    "           .assign(Pred=lambda d: d['Pred'].astype(np.int8)))\n"
   ]
  },
  {
   "cell_type": "code",
   "execution_count": 18,
   "metadata": {},
   "outputs": [
    {
     "name": "stdout",
     "output_type": "stream",
     "text": [
      "[[546  70]\n",
      " [  7 174]]\n",
      "              precision    recall  f1-score   support\n",
      "\n",
      "           0       0.99      0.89      0.93       616\n",
      "           1       0.71      0.96      0.82       181\n",
      "\n",
      "    accuracy                           0.90       797\n",
      "   macro avg       0.85      0.92      0.88       797\n",
      "weighted avg       0.93      0.90      0.91       797\n",
      "\n"
     ]
    }
   ],
   "source": [
    "# confusion matrix\n",
    "from sklearn.metrics import confusion_matrix, classification_report\n",
    "print(confusion_matrix(valid_df['Label'], valid_df['Pred']))\n",
    "print(classification_report(valid_df['Label'], valid_df['Pred']))\n"
   ]
  },
  {
   "cell_type": "markdown",
   "metadata": {},
   "source": [
    "# Do the thing above by a run"
   ]
  },
  {
   "cell_type": "code",
   "execution_count": 23,
   "metadata": {},
   "outputs": [
    {
     "name": "stdout",
     "output_type": "stream",
     "text": [
      "Created blank 'en' model\n",
      "Losses {'ner': 146.29710759356783}\n",
      "Losses {'ner': 3.892018180535656}\n",
      "Losses {'ner': 0.2710877051823593}\n",
      "Losses {'ner': 0.0003204959549735426}\n",
      "Losses {'ner': 2.2248619707612694e-08}\n",
      "Losses {'ner': 0.0031156915315137903}\n",
      "Losses {'ner': 1.962176431442263e-05}\n",
      "Losses {'ner': 6.627135898645994e-08}\n",
      "Losses {'ner': 1.7364762267744493e-07}\n",
      "Losses {'ner': 6.969027306756018e-09}\n",
      "Entities [('C#', 'PROGLANG')]\n",
      "Tokens [('How', '', 2), ('to', '', 2), ('know', '', 2), ('if', '', 2), ('a', '', 2), ('line', '', 2), ('intersects', '', 2), ('a', '', 2), ('plane', '', 2), ('in', '', 2), ('C', 'PROGLANG', 3), ('#', 'PROGLANG', 1), ('?', '', 2), ('-', '', 2), ('Basic', '', 2), ('2D', '', 2), ('geometry', '', 2)]\n",
      "---\n",
      "Entities [('NET', 'PROGLANG')]\n",
      "Tokens [('Does', '', 2), ('CruiseControl', '', 2), ('.', '', 2), ('NET', 'PROGLANG', 3), ('run', '', 2), ('on', '', 2), ('IIS', '', 2), ('7.0', '', 2), ('?', '', 2)]\n",
      "---\n",
      "Entities [('Java', 'PROGLANG')]\n",
      "Tokens [('Is', '', 2), ('there', '', 2), ('a', '', 2), ('Java', 'PROGLANG', 3), ('Console', '', 2), ('/', '', 2), ('Editor', '', 2), ('similar', '', 2), ('to', '', 2), ('the', '', 2), ('GroovyConsole', '', 2), ('?', '', 2)]\n",
      "---\n",
      "Entities [('ASP.NET', 'PROGLANG')]\n",
      "Tokens [('Does', '', 2), ('Microsoft', '', 2), ('ASP.NET', 'PROGLANG', 3), ('Ajax', '', 2), ('Cause', '', 2), ('DOM', '', 2), ('Object', '', 2), ('Leaks', '', 2), ('?', '', 2)]\n",
      "---\n",
      "Entities [('ASP.NET', 'PROGLANG')]\n",
      "Tokens [('How', '', 2), ('to', '', 2), ('make', '', 2), ('user', '', 2), ('controls', '', 2), ('know', '', 2), ('about', '', 2), ('css', '', 2), ('classes', '', 2), ('in', '', 2), ('ASP.NET', 'PROGLANG', 3)]\n",
      "---\n",
      "Entities [('C#', 'PROGLANG')]\n",
      "Tokens [('C', 'PROGLANG', 3), ('#', 'PROGLANG', 1), ('Auto', '', 2), ('Clearing', '', 2), ('Winform', '', 2), ('Textbox', '', 2)]\n",
      "---\n",
      "Entities [('Python', 'PROGLANG')]\n",
      "Tokens [('Are', '', 2), ('Python', 'PROGLANG', 3), ('threads', '', 2), ('buggy', '', 2), ('?', '', 2)]\n",
      "---\n",
      "Entities [('.NET', 'PROGLANG')]\n",
      "Tokens [('Best', '', 2), ('.NET', 'PROGLANG', 3), ('Wrapper', '', 2), ('for', '', 2), ('Google', '', 2), ('Maps', '', 2), ('or', '', 2), ('Yahoo', '', 2), ('Maps', '', 2), ('?', '', 2)]\n",
      "---\n",
      "Entities [('Python', 'PROGLANG')]\n",
      "Tokens [('Are', '', 2), ('there', '', 2), ('static', '', 2), ('analysis', '', 2), ('tools', '', 2), ('for', '', 2), ('Python', 'PROGLANG', 3), ('?', '', 2)]\n",
      "---\n",
      "Entities [('c++', 'PROGLANG')]\n",
      "Tokens [('How', '', 2), ('do', '', 2), ('you', '', 2), ('pack', '', 2), ('a', '', 2), ('visual', '', 2), ('studio', '', 2), ('c++', 'PROGLANG', 3), ('project', '', 2), ('for', '', 2), ('release', '', 2), ('?', '', 2)]\n",
      "---\n",
      "Entities [('Javascript', 'PROGLANG')]\n",
      "Tokens [('Comparison', '', 2), ('of', '', 2), ('Javascript', 'PROGLANG', 3), ('libraries', '', 2)]\n",
      "---\n",
      "Entities [('C#', 'PROGLANG')]\n",
      "Tokens [('C', 'PROGLANG', 3), ('#', 'PROGLANG', 1), ('-', '', 2), ('SQLClient', '', 2), ('-', '', 2), ('Simplest', '', 2), ('INSERT', '', 2)]\n",
      "---\n",
      "Entities [('.NET', 'PROGLANG')]\n",
      "Tokens [('Sending', '', 2), ('email', '', 2), ('in', '', 2), ('.NET', 'PROGLANG', 3), ('through', '', 2), ('Gmail', '', 2)]\n",
      "---\n",
      "Entities [('Ruby', 'PROGLANG')]\n",
      "Tokens [('How', '', 2), ('do', '', 2), ('I', '', 2), ('marshal', '', 2), ('a', '', 2), ('lambda', '', 2), ('(', '', 2), ('Proc', '', 2), (')', '', 2), ('in', '', 2), ('Ruby', 'PROGLANG', 3), ('?', '', 2)]\n",
      "---\n",
      "Entities [('Python', 'PROGLANG')]\n",
      "Tokens [('What', '', 2), ('is', '', 2), ('the', '', 2), ('best', '', 2), ('quick', '', 2), ('-', '', 2), ('read', '', 2), ('Python', 'PROGLANG', 3), ('book', '', 2), ('out', '', 2), ('there', '', 2), ('?', '', 2)]\n",
      "---\n",
      "Entities [('C#', 'PROGLANG')]\n",
      "Tokens [('What', '', 2), ('is', '', 2), ('the', '', 2), ('best', '', 2), ('way', '', 2), ('to', '', 2), ('connect', '', 2), ('and', '', 2), ('use', '', 2), ('a', '', 2), ('sqlite', '', 2), ('database', '', 2), ('from', '', 2), ('C', 'PROGLANG', 3), ('#', 'PROGLANG', 1)]\n",
      "---\n",
      "Entities [('.NET', 'PROGLANG')]\n",
      "Tokens [('Best', '', 2), ('.NET', 'PROGLANG', 3), ('build', '', 2), ('tool', '', 2)]\n",
      "---\n",
      "Entities [('.NET', 'PROGLANG')]\n",
      "Tokens [('Moving', '', 2), ('from', '', 2), ('Visual', '', 2), ('Studio', '', 2), ('2005', '', 2), ('to', '', 2), ('2008', '', 2), ('and', '', 2), ('.NET', 'PROGLANG', 3), ('2.0', '', 2)]\n",
      "---\n",
      "Entities [('ASP.NET', 'PROGLANG')]\n",
      "Tokens [('ASP.NET', 'PROGLANG', 3), ('Proxy', '', 2), ('Application', '', 2)]\n",
      "---\n",
      "Entities [('C#', 'PROGLANG')]\n",
      "Tokens [('Is', '', 2), ('there', '', 2), ('a', '', 2), ('built', '', 2), ('-', '', 2), ('in', '', 2), ('method', '', 2), ('to', '', 2), ('compare', '', 2), ('collections', '', 2), ('in', '', 2), ('C', 'PROGLANG', 3), ('#', 'PROGLANG', 1), ('?', '', 2)]\n",
      "---\n",
      "Entities [('C++', 'PROGLANG')]\n",
      "Tokens [('What', '', 2), ('is', '', 2), ('the', '', 2), ('best', '', 2), ('free', '', 2), ('memory', '', 2), ('leak', '', 2), ('detector', '', 2), ('for', '', 2), ('a', '', 2), ('C', '', 2), ('/', '', 2), ('C++', 'PROGLANG', 3), ('program', '', 2), ('and', '', 2), ('its', '', 2), ('plug', '', 2), ('-', '', 2), ('in', '', 2), ('DLLs', '', 2), ('?', '', 2)]\n",
      "---\n",
      "Entities [('C++', 'PROGLANG')]\n",
      "Tokens [('How', '', 2), ('to', '', 2), ('get', '', 2), ('your', '', 2), ('own', '', 2), ('(', '', 2), ('local', '', 2), (')', '', 2), ('IP', '', 2), ('-', '', 2), ('Address', '', 2), ('from', '', 2), ('an', '', 2), ('udp', '', 2), ('-', '', 2), ('socket', '', 2), ('(', '', 2), ('C', '', 2), ('/', '', 2), ('C++', 'PROGLANG', 3), (')', '', 2)]\n",
      "---\n",
      "Entities [('Python', 'PROGLANG')]\n",
      "Tokens [('Create', '', 2), ('an', '', 2), ('encrypted', '', 2), ('ZIP', '', 2), ('file', '', 2), ('in', '', 2), ('Python', 'PROGLANG', 3)]\n",
      "---\n",
      "Entities [('C#', 'PROGLANG')]\n",
      "Tokens [('C', 'PROGLANG', 3), ('#', 'PROGLANG', 1), ('and', '', 2), ('Arrow', '', 2), ('Keys', '', 2)]\n",
      "---\n",
      "Entities [('C#', 'PROGLANG')]\n",
      "Tokens [('Is', '', 2), ('overloading', '', 2), ('the', '', 2), ('only', '', 2), ('way', '', 2), ('to', '', 2), ('have', '', 2), ('default', '', 2), ('function', '', 2), ('arguments', '', 2), ('in', '', 2), ('C', 'PROGLANG', 3), ('#', 'PROGLANG', 1), ('?', '', 2)]\n",
      "---\n",
      "Entities [('ASP.NET', 'PROGLANG')]\n",
      "Tokens [('ASP.NET', 'PROGLANG', 3), ('Site', '', 2), ('Maps', '', 2)]\n",
      "---\n",
      "Entities [('asp.net', 'PROGLANG')]\n",
      "Tokens [('Where', '', 2), ('should', '', 2), ('I', '', 2), ('put', '', 2), ('my', '', 2), ('log', '', 2), ('file', '', 2), ('for', '', 2), ('an', '', 2), ('asp.net', 'PROGLANG', 3), ('application', '', 2), ('?', '', 2)]\n",
      "---\n",
      "Entities [('ASP.NET', 'PROGLANG')]\n",
      "Tokens [('Validating', '', 2), ('posted', '', 2), ('form', '', 2), ('data', '', 2), ('in', '', 2), ('the', '', 2), ('ASP.NET', 'PROGLANG', 3), ('MVC', '', 2), ('framework', '', 2)]\n",
      "---\n",
      "Entities [('PHP', 'PROGLANG')]\n",
      "Tokens [('How', '', 2), ('to', '', 2), ('easily', '', 2), ('consume', '', 2), ('a', '', 2), ('web', '', 2), ('service', '', 2), ('from', '', 2), ('PHP', 'PROGLANG', 3)]\n",
      "---\n",
      "Entities [('C#', 'PROGLANG')]\n",
      "Tokens [('How', '', 2), ('do', '', 2), ('I', '', 2), ('delete', '', 2), ('a', '', 2), ('file', '', 2), ('which', '', 2), ('is', '', 2), ('locked', '', 2), ('by', '', 2), ('another', '', 2), ('process', '', 2), ('in', '', 2), ('C', 'PROGLANG', 3), ('#', 'PROGLANG', 1), ('?', '', 2)]\n",
      "---\n",
      "Entities [('Java', 'PROGLANG')]\n",
      "Tokens [('What', '', 2), ('code', '', 2), ('analysis', '', 2), ('tools', '', 2), ('do', '', 2), ('you', '', 2), ('use', '', 2), ('for', '', 2), ('your', '', 2), ('Java', 'PROGLANG', 3), ('projects', '', 2), ('?', '', 2)]\n",
      "---\n",
      "Entities [('C#', 'PROGLANG')]\n",
      "Tokens [('How', '', 2), ('do', '', 2), ('I', '', 2), ('generate', '', 2), ('a', '', 2), ('hashcode', '', 2), ('from', '', 2), ('a', '', 2), ('byte', '', 2), ('array', '', 2), ('in', '', 2), ('C', 'PROGLANG', 3), ('#', 'PROGLANG', 1), ('?', '', 2)]\n",
      "---\n",
      "Entities [('Ruby', 'PROGLANG')]\n",
      "Tokens [('How', '', 2), ('do', '', 2), ('I', '', 2), ('run', '', 2), ('Rake', '', 2), ('tasks', '', 2), ('within', '', 2), ('a', '', 2), ('Ruby', 'PROGLANG', 3), ('script', '', 2), ('?', '', 2)]\n",
      "---\n",
      "Entities [('.Net', 'PROGLANG')]\n",
      "Tokens [('Configurable', '', 2), ('Table', '', 2), ('Prefixes', '', 2), ('with', '', 2), ('a', '', 2), ('.Net', 'PROGLANG', 3), ('OR', '', 2), ('/', '', 2), ('M', '', 2), ('?', '', 2)]\n",
      "---\n",
      "Entities [('C++', 'PROGLANG')]\n",
      "Tokens [('How', '', 2), ('do', '', 2), ('you', '', 2), ('open', '', 2), ('a', '', 2), ('file', '', 2), ('in', '', 2), ('C++', 'PROGLANG', 3), ('?', '', 2)]\n",
      "---\n",
      "Entities [('ASP.Net', 'PROGLANG')]\n",
      "Tokens [('Speeding', '', 2), ('up', '', 2), ('an', '', 2), ('ASP.Net', 'PROGLANG', 3), ('Web', '', 2), ('Site', '', 2), ('or', '', 2), ('Application', '', 2)]\n",
      "---\n",
      "Entities [('Java', 'PROGLANG')]\n",
      "Tokens [('Best', '', 2), ('Method', '', 2), ('to', '', 2), ('run', '', 2), ('a', '', 2), ('Java', 'PROGLANG', 3), ('Application', '', 2), ('as', '', 2), ('a', '', 2), ('*', '', 2), ('nix', '', 2), ('Daemon', '', 2), ('or', '', 2), ('Windows', '', 2), ('Service', '', 2), ('?', '', 2)]\n",
      "---\n",
      "Entities [('Perl', 'PROGLANG')]\n",
      "Tokens [('How', '', 2), ('do', '', 2), ('I', '', 2), ('lock', '', 2), ('a', '', 2), ('file', '', 2), ('in', '', 2), ('Perl', 'PROGLANG', 3), ('?', '', 2)]\n",
      "---\n",
      "Entities [('asp.net', 'PROGLANG')]\n",
      "Tokens [('How', '', 2), ('to', '', 2), ('implement', '', 2), ('a', '', 2), ('file', '', 2), ('download', '', 2), ('in', '', 2), ('asp.net', 'PROGLANG', 3)]\n",
      "---\n",
      "Entities [('.NET', 'PROGLANG')]\n",
      "Tokens [('.NET', 'PROGLANG', 3), ('3.5', '', 2), ('Redistributable', '', 2), ('--', '', 2), ('200', '', 2), ('MB', '', 2), ('?', '', 2), ('Other', '', 2), ('options', '', 2), ('?', '', 2)]\n",
      "---\n",
      "Entities [('ASP.NET', 'PROGLANG')]\n",
      "Tokens [('What', '', 2), ('are', '', 2), ('effective', '', 2), ('options', '', 2), ('for', '', 2), ('embedding', '', 2), ('video', '', 2), ('in', '', 2), ('an', '', 2), ('ASP.NET', 'PROGLANG', 3), ('web', '', 2), ('site', '', 2), ('?', '', 2)]\n",
      "---\n",
      "Entities [('.NET', 'PROGLANG')]\n",
      "Tokens [('Printing', '', 2), ('from', '', 2), ('a', '', 2), ('.NET', 'PROGLANG', 3), ('Service', '', 2)]\n",
      "---\n",
      "Entities [('.NET', 'PROGLANG')]\n",
      "Tokens [('Is', '', 2), ('there', '', 2), ('a', '', 2), ('best', '', 2), ('.NET', 'PROGLANG', 3), ('algorithm', '', 2), ('for', '', 2), ('credit', '', 2), ('card', '', 2), ('encryption', '', 2), ('?', '', 2)]\n",
      "---\n",
      "Entities [('Python', 'PROGLANG')]\n",
      "Tokens [('Get', '', 2), ('Last', '', 2), ('Day', '', 2), ('of', '', 2), ('the', '', 2), ('Month', '', 2), ('in', '', 2), ('Python', 'PROGLANG', 3)]\n",
      "---\n",
      "Entities [('.NET', 'PROGLANG')]\n",
      "Tokens [('Has', '', 2), ('.NET', 'PROGLANG', 3), ('made', '', 2), ('raw', '', 2), ('COM', '', 2), ('and', '', 2), ('DCOM', '', 2), ('programming', '', 2), ('redundant', '', 2), ('?', '', 2)]\n",
      "---\n",
      "Entities [('JavaScript', 'PROGLANG')]\n",
      "Tokens [('Comparing', '', 2), ('Arrays', '', 2), ('of', '', 2), ('Objects', '', 2), ('in', '', 2), ('JavaScript', 'PROGLANG', 3)]\n",
      "---\n",
      "Entities [('Java', 'PROGLANG')]\n",
      "Tokens [('Packaging', '', 2), ('Java', 'PROGLANG', 3), ('apps', '', 2), ('for', '', 2), ('the', '', 2), ('Windows', '', 2), ('/', '', 2), ('Linux', '', 2), ('desktop', '', 2)]\n",
      "---\n",
      "Entities [('javascript', 'PROGLANG')]\n",
      "Tokens [('Code', '', 2), ('to', '', 2), ('ask', '', 2), ('yes', '', 2), ('/', '', 2), ('no', '', 2), ('question', '', 2), ('in', '', 2), ('javascript', 'PROGLANG', 3)]\n",
      "---\n",
      "Entities [('C++', 'PROGLANG')]\n",
      "Tokens [('Any', '', 2), ('good', '', 2), ('advice', '', 2), ('on', '', 2), ('using', '', 2), ('emacs', '', 2), ('for', '', 2), ('C++', 'PROGLANG', 3), ('project', '', 2), ('?', '', 2)]\n",
      "---\n",
      "Entities [('ASP.NET', 'PROGLANG')]\n",
      "Tokens [('Setting', '', 2), ('Focus', '', 2), ('with', '', 2), ('ASP.NET', 'PROGLANG', 3), ('AJAX', '', 2), ('Control', '', 2), ('Toolkit', '', 2)]\n",
      "---\n",
      "Entities [('Asp.net', 'PROGLANG')]\n",
      "Tokens [('Mocking', '', 2), ('Asp.net', 'PROGLANG', 3), ('-', '', 2), ('mvc', '', 2), ('Controller', '', 2), ('Context', '', 2)]\n",
      "---\n",
      "Entities [('C++', 'PROGLANG')]\n",
      "Tokens [('C++', 'PROGLANG', 3), (':', '', 2), ('Opening', '', 2), ('a', '', 2), ('file', '', 2), ('in', '', 2), ('non', '', 2), ('exclusive', '', 2), ('mode', '', 2)]\n",
      "---\n",
      "Entities [('.net', 'PROGLANG')]\n",
      "Tokens [('What', '', 2), ('are', '', 2), ('the', '', 2), ('most', '', 2), ('important', '', 2), ('things', '', 2), ('to', '', 2), ('learn', '', 2), ('about', '', 2), ('.net', 'PROGLANG', 3), ('as', '', 2), ('a', '', 2), ('Project', '', 2), ('Manager', '', 2), ('?', '', 2)]\n",
      "---\n",
      "Entities [('Net', 'PROGLANG')]\n",
      "Tokens [('Asp', '', 2), ('.', '', 2), ('Net', 'PROGLANG', 3), ('MVC', '', 2), (':', '', 2), ('How', '', 2), ('do', '', 2), ('I', '', 2), ('enable', '', 2), ('dashes', '', 2), ('in', '', 2), ('my', '', 2), ('urls', '', 2), ('?', '', 2)]\n",
      "---\n",
      "Entities [('C#', 'PROGLANG')]\n",
      "Tokens [('How', '', 2), ('do', '', 2), ('I', '', 2), ('connect', '', 2), ('to', '', 2), ('a', '', 2), ('database', '', 2), ('and', '', 2), ('loop', '', 2), ('over', '', 2), ('a', '', 2), ('recordset', '', 2), ('in', '', 2), ('C', 'PROGLANG', 3), ('#', 'PROGLANG', 1), ('?', '', 2)]\n",
      "---\n",
      "Entities [('asp.net', 'PROGLANG')]\n",
      "Tokens [('How', '', 2), ('do', '', 2), ('I', '', 2), ('handle', '', 2), ('page', '', 2), ('flow', '', 2), ('in', '', 2), ('MVC', '', 2), ('(', '', 2), ('particularly', '', 2), ('asp.net', 'PROGLANG', 3), (')', '', 2)]\n",
      "---\n",
      "Entities [('JavaScript', 'PROGLANG')]\n",
      "Tokens [('Some', '', 2), ('kind', '', 2), ('of', '', 2), ('task', '', 2), ('manager', '', 2), ('for', '', 2), ('JavaScript', 'PROGLANG', 3), ('in', '', 2), ('Firefox', '', 2), ('3', '', 2), ('?', '', 2)]\n",
      "---\n",
      "Entities [('JavaScript', 'PROGLANG')]\n",
      "Tokens [('Looking', '', 2), ('for', '', 2), ('a', '', 2), ('simple', '', 2), ('JavaScript', 'PROGLANG', 3), ('example', '', 2), ('that', '', 2), ('updates', '', 2), ('DOM', '', 2)]\n",
      "---\n",
      "Entities [('Ruby', 'PROGLANG')]\n",
      "Tokens [('What', '', 2), ('are', '', 2), ('the', '', 2), ('important', '', 2), ('Ruby', 'PROGLANG', 3), ('commands', '', 2), ('?', '', 2)]\n",
      "---\n",
      "Entities [('C#', 'PROGLANG')]\n",
      "Tokens [('How', '', 2), ('do', '', 2), ('I', '', 2), ('get', '', 2), ('the', '', 2), ('full', '', 2), ('url', '', 2), ('of', '', 2), ('the', '', 2), ('page', '', 2), ('I', '', 2), ('am', '', 2), ('on', '', 2), ('in', '', 2), ('C', 'PROGLANG', 3), ('#', 'PROGLANG', 1)]\n",
      "---\n",
      "Entities [('asp.net', 'PROGLANG')]\n",
      "Tokens [('enter', '', 2), ('key', '', 2), ('to', '', 2), ('insert', '', 2), ('newline', '', 2), ('in', '', 2), ('asp.net', 'PROGLANG', 3), ('multiline', '', 2), ('textbox', '', 2), ('control', '', 2)]\n",
      "---\n",
      "Entities [('.NET', 'PROGLANG')]\n",
      "Tokens [('SQL1159', '', 2), ('Initialization', '', 2), ('error', '', 2), ('with', '', 2), ('DB2', '', 2), ('.NET', 'PROGLANG', 3), ('Data', '', 2), ('Provider', '', 2), (',', '', 2), ('reason', '', 2), ('code', '', 2), ('7', '', 2), (',', '', 2), ('tokens', '', 2), ('9.5.0.DEF.2', '', 2), (',', '', 2), ('SOFTWARE\\\\IBM\\\\DB2\\\\InstalledCopies', '', 2)]\n",
      "---\n",
      "Entities [('.NET', 'PROGLANG')]\n",
      "Tokens [('.NET', 'PROGLANG', 3), ('-', '', 2), ('Get', '', 2), ('protocol', '', 2), (',', '', 2), ('host', '', 2), (',', '', 2), ('and', '', 2), ('port', '', 2)]\n",
      "---\n"
     ]
    },
    {
     "name": "stdout",
     "output_type": "stream",
     "text": [
      "Entities [('C#', 'PROGLANG')]\n",
      "Tokens [('C', 'PROGLANG', 3), ('#', 'PROGLANG', 1), ('string', '', 2), ('concatenation', '', 2), ('and', '', 2), ('string', '', 2), ('interning', '', 2)]\n",
      "---\n",
      "Entities [('python', 'PROGLANG')]\n",
      "Tokens [('How', '', 2), ('to', '', 2), ('find', '', 2), ('the', '', 2), ('mime', '', 2), ('type', '', 2), ('of', '', 2), ('a', '', 2), ('file', '', 2), ('in', '', 2), ('python', 'PROGLANG', 3), ('?', '', 2)]\n",
      "---\n",
      "Entities [('C++', 'PROGLANG')]\n",
      "Tokens [('How', '', 2), ('do', '', 2), ('you', '', 2), ('properly', '', 2), ('use', '', 2), ('namespaces', '', 2), ('in', '', 2), ('C++', 'PROGLANG', 3), ('?', '', 2)]\n",
      "---\n",
      "Entities [('Java', 'PROGLANG')]\n",
      "Tokens [('Java', 'PROGLANG', 3), ('Logging', '', 2), ('vs', '', 2), ('Log4J', '', 2)]\n",
      "---\n",
      "Entities [('ASP.NET', 'PROGLANG')]\n",
      "Tokens [('The', '', 2), ('Difference', '', 2), ('Between', '', 2), ('a', '', 2), ('DataGrid', '', 2), ('and', '', 2), ('a', '', 2), ('GridView', '', 2), ('in', '', 2), ('ASP.NET', 'PROGLANG', 3), ('?', '', 2)]\n",
      "---\n",
      "Entities [('.Net', 'PROGLANG')]\n",
      "Tokens [('What', '', 2), ('is', '', 2), ('a', '', 2), ('good', '', 2), ('dvd', '', 2), ('burning', '', 2), ('component', '', 2), ('for', '', 2), ('Windows', '', 2), ('or', '', 2), ('.Net', 'PROGLANG', 3), ('?', '', 2)]\n",
      "---\n",
      "Entities [('.NET', 'PROGLANG')]\n",
      "Tokens [('Adding', '', 2), ('scripting', '', 2), ('functionality', '', 2), ('to', '', 2), ('.NET', 'PROGLANG', 3), ('applications', '', 2)]\n",
      "---\n",
      "Entities [('Asp.net', 'PROGLANG')]\n",
      "Tokens [('Asp.net', 'PROGLANG', 3), ('website', '', 2), ('first', '', 2), ('start', '', 2), ('is', '', 2), ('very', '', 2), ('slow', '', 2)]\n",
      "---\n",
      "Entities [('.Net', 'PROGLANG')]\n",
      "Tokens [('How', '', 2), ('do', '', 2), ('I', '', 2), ('read', '', 2), ('a', '', 2), ('disk', '', 2), ('directly', '', 2), ('with', '', 2), ('.Net', 'PROGLANG', 3), ('?', '', 2)]\n",
      "---\n",
      "Entities [('Php', 'PROGLANG')]\n",
      "Tokens [('HTML', '', 2), ('Scraping', '', 2), ('in', '', 2), ('Php', 'PROGLANG', 3)]\n",
      "---\n",
      "Entities [('C#', 'PROGLANG')]\n",
      "Tokens [('How', '', 2), ('do', '', 2), ('you', '', 2), ('give', '', 2), ('a', '', 2), ('C', 'PROGLANG', 3), ('#', 'PROGLANG', 1), ('Auto', '', 2), ('-', '', 2), ('Property', '', 2), ('a', '', 2), ('default', '', 2), ('value', '', 2), ('?', '', 2)]\n",
      "---\n",
      "Entities [('Java', 'PROGLANG')]\n",
      "Tokens [('How', '', 2), ('can', '', 2), ('I', '', 2), ('Java', 'PROGLANG', 3), ('webstart', '', 2), ('multiple', '', 2), (',', '', 2), ('dependent', '', 2), (',', '', 2), ('native', '', 2), ('libraries', '', 2), ('?', '', 2)]\n",
      "---\n",
      "Entities [('.Net', 'PROGLANG')]\n",
      "Tokens [('Microsoft', '', 2), ('.Net', 'PROGLANG', 3), ('framework', '', 2), ('3.5', '', 2), ('SP1', '', 2), ('Setup', '', 2), ('Fails', '', 2)]\n",
      "---\n",
      "Entities [('.NET', 'PROGLANG')]\n",
      "Tokens [('Add', '', 2), ('.NET', 'PROGLANG', 3), ('2.0', '', 2), ('SP1', '', 2), ('as', '', 2), ('a', '', 2), ('prerequisite', '', 2), ('for', '', 2), ('deployment', '', 2), ('project', '', 2)]\n",
      "---\n",
      "Entities [('PHP', 'PROGLANG')]\n",
      "Tokens [('What', '', 2), ('are', '', 2), ('the', '', 2), ('proper', '', 2), ('permissions', '', 2), ('for', '', 2), ('an', '', 2), ('upload', '', 2), ('folder', '', 2), ('with', '', 2), ('PHP', 'PROGLANG', 3), ('/', '', 2), ('Apache', '', 2), ('?', '', 2)]\n",
      "---\n",
      "Entities [('C++', 'PROGLANG')]\n",
      "Tokens [('How', '', 2), ('to', '', 2), ('convert', '', 2), ('std::string', '', 2), ('to', '', 2), ('LPCWSTR', '', 2), ('in', '', 2), ('C++', 'PROGLANG', 3), ('(', '', 2), ('Unicode', '', 2), (')', '', 2)]\n",
      "---\n",
      "Entities [('JavaScript', 'PROGLANG')]\n",
      "Tokens [('How', '', 2), ('can', '', 2), ('I', '', 2), ('create', '', 2), ('Prototype', '', 2), ('Methods', '', 2), ('(', '', 2), ('like', '', 2), ('JavaScript', 'PROGLANG', 3), (')', '', 2), ('in', '', 2), ('C#.Net', '', 2), ('?', '', 2)]\n",
      "---\n",
      "Entities [('.net', 'PROGLANG')]\n",
      "Tokens [('Is', '', 2), ('nAnt', '', 2), ('still', '', 2), ('supported', '', 2), ('and', '', 2), ('suitable', '', 2), ('for', '', 2), ('.net', 'PROGLANG', 3), ('3.5', '', 2), ('/', '', 2), ('VS2008', '', 2), ('?', '', 2)]\n",
      "---\n",
      "Entities [('C#', 'PROGLANG')]\n",
      "Tokens [('Order', '', 2), ('an', '', 2), ('Array', '', 2), ('like', '', 2), ('another', '', 2), ('Array', '', 2), ('in', '', 2), ('C', 'PROGLANG', 3), ('#', 'PROGLANG', 1)]\n",
      "---\n",
      "Entities [('Java', 'PROGLANG')]\n",
      "Tokens [('Java', 'PROGLANG', 3), ('JPanel', '', 2), ('redraw', '', 2), ('issues', '', 2)]\n",
      "---\n",
      "Entities [('C++', 'PROGLANG')]\n",
      "Tokens [('How', '', 2), ('to', '', 2), ('set', '', 2), ('up', '', 2), ('unit', '', 2), ('testing', '', 2), ('for', '', 2), ('Visual', '', 2), ('Studio', '', 2), ('C++', 'PROGLANG', 3)]\n",
      "---\n",
      "Entities [('PHP', 'PROGLANG')]\n",
      "Tokens [('PHP', 'PROGLANG', 3), (':', '', 2), ('session', '', 2), ('variable', '', 2), ('are', '', 2), (\"n't\", '', 2), ('usable', '', 2), ('when', '', 2), ('site', '', 2), ('is', '', 2), ('redirected', '', 2)]\n",
      "---\n",
      "Entities [('C++', 'PROGLANG')]\n",
      "Tokens [('Writing', '', 2), ('/', '', 2), ('Using', '', 2), ('C++', 'PROGLANG', 3), ('Libraries', '', 2)]\n",
      "---\n",
      "Entities [('php', 'PROGLANG')]\n",
      "Tokens [('How', '', 2), ('to', '', 2), ('setup', '', 2), ('site', '', 2), ('-', '', 2), ('wide', '', 2), ('variables', '', 2), ('in', '', 2), ('php', 'PROGLANG', 3), ('?', '', 2)]\n",
      "---\n",
      "Entities [('C#', 'PROGLANG')]\n",
      "Tokens [('How', '', 2), ('to', '', 2), ('add', '', 2), ('(', '', 2), ('simple', '', 2), (')', '', 2), ('tracing', '', 2), ('in', '', 2), ('C', 'PROGLANG', 3), ('#', 'PROGLANG', 1), ('?', '', 2)]\n",
      "---\n",
      "Entities [('ASP.NET', 'PROGLANG')]\n",
      "Tokens [('ASP.NET', 'PROGLANG', 3), ('controls', '', 2), ('can', '', 2), ('not', '', 2), ('be', '', 2), ('referenced', '', 2), ('in', '', 2), ('code', '', 2), ('-', '', 2), ('behind', '', 2), ('in', '', 2), ('Visual', '', 2), ('Studio', '', 2), ('2008', '', 2)]\n",
      "---\n",
      "Entities [('ASP.Net', 'PROGLANG')]\n",
      "Tokens [('ASP.Net', 'PROGLANG', 3), ('2.0', '', 2), ('Application', '', 2), ('without', '', 2), ('Business', '', 2), ('Logic', '', 2), ('Layer', '', 2), ('?', '', 2)]\n",
      "---\n",
      "Entities [('.NET', 'PROGLANG')]\n",
      "Tokens [('.NET', 'PROGLANG', 3), ('Unit', '', 2), ('Testing', '', 2), ('packages', '', 2), ('?', '', 2)]\n",
      "---\n",
      "Entities [('.NET', 'PROGLANG')]\n",
      "Tokens [('Can', '', 2), ('.NET', 'PROGLANG', 3), ('check', '', 2), ('other', '', 2), ('running', '', 2), ('programs', '', 2), ('command', '', 2), ('line', '', 2), ('parameters', '', 2), ('?', '', 2)]\n",
      "---\n",
      "Entities [('ASP.NET', 'PROGLANG')]\n",
      "Tokens [('Entity', '', 2), ('diagrams', '', 2), ('in', '', 2), ('ASP.NET', 'PROGLANG', 3), ('MVC', '', 2)]\n",
      "---\n",
      "Entities [('javaScript', 'PROGLANG')]\n",
      "Tokens [('Alternative', '', 2), ('\"', '', 2), ('architectural', '', 2), ('\"', '', 2), ('approaches', '', 2), ('to', '', 2), ('javaScript', 'PROGLANG', 3), ('client', '', 2), ('code', '', 2), ('?', '', 2)]\n",
      "---\n",
      "Entities [('ASP.Net', 'PROGLANG')]\n",
      "Tokens [('How', '', 2), ('do', '', 2), ('I', '', 2), ('get', '', 2), ('rid', '', 2), ('of', '', 2), ('Home', '', 2), ('in', '', 2), ('ASP.Net', 'PROGLANG', 3), ('MVC', '', 2), ('?', '', 2)]\n",
      "---\n",
      "Entities [('Asp.net', 'PROGLANG')]\n",
      "Tokens [('Display', '', 2), ('rows', '', 2), ('in', '', 2), ('multiple', '', 2), ('columns', '', 2), ('in', '', 2), ('Asp.net', 'PROGLANG', 3), ('Gridview', '', 2)]\n",
      "---\n",
      "Entities [('.NET', 'PROGLANG')]\n",
      "Tokens [('Animation', '', 2), ('in', '', 2), ('.NET', 'PROGLANG', 3)]\n",
      "---\n",
      "Entities [('Ruby', 'PROGLANG')]\n",
      "Tokens [('Ruby', 'PROGLANG', 3), ('Performance', '', 2)]\n",
      "---\n",
      "Entities [('Java', 'PROGLANG')]\n",
      "Tokens [('Is', '', 2), ('Java', 'PROGLANG', 3), ('\"', '', 2), ('pass', '', 2), ('-', '', 2), ('by', '', 2), ('-', '', 2), ('reference', '', 2), ('\"', '', 2), ('or', '', 2), ('\"', '', 2), ('pass', '', 2), ('-', '', 2), ('by', '', 2), ('-', '', 2), ('value', '', 2), ('\"', '', 2), ('?', '', 2)]\n",
      "---\n",
      "None\n"
     ]
    }
   ],
   "source": [
    "from __future__ import unicode_literals, print_function\n",
    "\n",
    "import plac\n",
    "import random\n",
    "import warnings\n",
    "from pathlib import Path\n",
    "import spacy\n",
    "from spacy.util import minibatch, compounding\n",
    "\n",
    "# Training + testing\n",
    "def main(model=None, output_dir=None, n_iter=10, TRAIN_DATA=None):\n",
    "    \"\"\"Load the model, set up the pipeline and train the entity recognizer.\"\"\"\n",
    "    if model is not None:\n",
    "        nlp = spacy.load(model)  # load existing spaCy model\n",
    "        print(\"Loaded model '%s'\" % model)\n",
    "    else:\n",
    "        nlp = spacy.blank(\"en\")  # create blank Language class\n",
    "        print(\"Created blank 'en' model\")\n",
    "\n",
    "    # create the built-in pipeline components and add them to the pipeline\n",
    "    # nlp.add_pipe works for built-ins that are registered with spaCy\n",
    "    if \"ner\" not in nlp.pipe_names:\n",
    "        ner = nlp.add_pipe(\"ner\")\n",
    "    # otherwise, get it so we can add labels\n",
    "    else:\n",
    "        ner = nlp.get_pipe(\"ner\")\n",
    "\n",
    "    # add labels\n",
    "    for _, annotations in TRAIN_DATA:\n",
    "        for ent in annotations.get(\"entities\"):\n",
    "            ner.add_label(ent[2])\n",
    "\n",
    "    # get names of other pipes to disable them during training\n",
    "    pipe_exceptions = [\"ner\", \"trf_wordpiecer\", \"trf_tok2vec\"]\n",
    "    other_pipes = [pipe for pipe in nlp.pipe_names if pipe not in pipe_exceptions]\n",
    "    # only train NER\n",
    "    with nlp.disable_pipes(*other_pipes), warnings.catch_warnings():\n",
    "        # show warnings for misaligned entity spans once\n",
    "        warnings.filterwarnings(\"once\", category=UserWarning, module='spacy')\n",
    "\n",
    "        # reset and initialize the weights randomly – but only if we're\n",
    "        # training a new model -----------\n",
    "        if model is None:\n",
    "            nlp.begin_training()\n",
    "        for itn in range(n_iter):\n",
    "            random.shuffle(TRAIN_DATA)\n",
    "            losses = {}\n",
    "            # batch up the examples using spaCy's minibatch\n",
    "            batches = minibatch(TRAIN_DATA, size=compounding(4.0, 32.0, 1.001))\n",
    "            for batch in batches:\n",
    "                for text, annotations in batch:\n",
    "                    doc = nlp.make_doc(text)\n",
    "                    example = Example.from_dict(doc, annotations)\n",
    "                    nlp.update(\n",
    "                        [example],\n",
    "                        drop=0.1,  # dropout - make it harder to memorise data\n",
    "                        losses=losses,\n",
    "                    )\n",
    "            print(\"Losses\", losses)\n",
    "\n",
    "    # test the trained model--------\n",
    "    for text, _ in TRAIN_DATA:\n",
    "        doc = nlp(text)\n",
    "        print(\"Entities\", [(ent.text, ent.label_) for ent in doc.ents])\n",
    "        print(\"Tokens\", [(t.text, t.ent_type_, t.ent_iob) for t in doc])\n",
    "        print('---')\n",
    "    # save model to output directory\n",
    "    if output_dir is not None:\n",
    "        output_dir = Path(output_dir)\n",
    "        if not output_dir.exists():\n",
    "            output_dir.mkdir() # make directory at the current path\n",
    "        nlp.to_disk(output_dir)\n",
    "        print(\"Saved model to\", output_dir)\n",
    "\n",
    "        # test the saved model\n",
    "        print(\"Loading from\", output_dir)\n",
    "        nlp2 = spacy.load(output_dir)\n",
    "        for text, _ in TRAIN_DATA:\n",
    "            doc = nlp2(text)\n",
    "            print(\"Entities\", [(ent.text, ent.label_) for ent in doc.ents])\n",
    "            print(\"Tokens\", [(t.text, t.ent_type_, t.ent_iob) for t in doc])\n",
    "            \n",
    "# ------------ validate the confusion matrix and model performance    \n",
    "    valid_df = (pd.read_csv('have_label.txt', delimiter = '\\t')\n",
    "           [['Label', 'Title']]\n",
    "           .assign(Pred=lambda d: [len(matcher(d)) > 0 for d in nlp2.pipe(d['Title'])])\n",
    "           .assign(Pred=lambda d: d['Pred'].astype(np.int8)))\n",
    "    # confusion matrix\n",
    "    from sklearn.metrics import confusion_matrix, classification_report\n",
    "    print(confusion_matrix(valid_df['Label'], valid_df['Pred']))\n",
    "    print(classification_report(valid_df['Label'], valid_df['Pred']))\n",
    "            \n",
    "print(main(TRAIN_DATA=TRAIN_DATA))"
   ]
  },
  {
   "cell_type": "code",
   "execution_count": null,
   "metadata": {},
   "outputs": [],
   "source": [
    "!python3 -V"
   ]
  }
 ],
 "metadata": {
  "kernelspec": {
   "display_name": "Python 3",
   "language": "python",
   "name": "python3"
  },
  "language_info": {
   "codemirror_mode": {
    "name": "ipython",
    "version": 3
   },
   "file_extension": ".py",
   "mimetype": "text/x-python",
   "name": "python",
   "nbconvert_exporter": "python",
   "pygments_lexer": "ipython3",
   "version": "3.8.5"
  }
 },
 "nbformat": 4,
 "nbformat_minor": 2
}
